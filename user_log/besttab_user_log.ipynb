{
 "cells": [
  {
   "cell_type": "code",
   "execution_count": null,
   "metadata": {},
   "outputs": [],
   "source": [
    "import sys\n",
    "# sys.path.append('/root/kurly-aa-ds-demand-forecast')\n",
    "import logging\n",
    "import warnings\n",
    "import numpy as np\n",
    "import pandas as pd\n",
    "from lightgbm import LGBMRegressor\n",
    "from sklearn.model_selection import RandomizedSearchCV\n",
    "from datetime import datetime, date, timedelta\n",
    "from sklearn.preprocessing import LabelEncoder\n",
    "import category_encoders as ce\n",
    "warnings.filterwarnings(\"ignore\")\n",
    "from common.util.aargparser import get_aargparser, str2bool\n",
    "from common.data.region_mapper import RegionMapper\n",
    "from common.batch.dataprocessor import GCPDataProcessor\n",
    "from common.io.read import AWSRead, GCPRead\n",
    "from common.data.cookie import read_ar_goal_info_by_ondo_temp"
   ]
  },
  {
   "cell_type": "code",
   "execution_count": null,
   "metadata": {},
   "outputs": [],
   "source": [
    "sql = \"\"\"\n",
    "select pdt\n",
    "      , json_value(message.device_brand) as device_brand\n",
    "      , json_value(message.device_id) as device_id\n",
    "      , json_value(message.device_model) as device_model\n",
    "      , json_value(message.event_id) as event_id\n",
    "      , json_value(message.event_type) as event_type\n",
    "      , json_value(message.event_properties.adid) as adid\n",
    "      , json_value(message.event_properties.browse_id) as browse_id\n",
    "      , json_value(message.event_properties.browse_screen_name) as browse_screen_name\n",
    "      , json_value(message.event_properties.browse_site_name) as browse_site_name\n",
    "      , json_value(message.event_properties.browse_tab_name) as browse_tab_name\n",
    "      , json_value(message.event_properties.content_id) as content_id\n",
    "      , json_value(message.event_properties.content_name) as content_name\n",
    "      , json_value(message.event_properties.previous_screen_name) as previous_screen_name\n",
    "      , json_value(message.event_properties.price) as price\n",
    "      , json_value(message.event_properties.sales_price) as sales_price\n",
    "      , json_value(message.event_properties.screen_name) as screen_naem\n",
    "      , json_value(message.session_id) as session_id\n",
    "      , json_value(message.timestamp) as timestamp\n",
    "      , json_value(message.uuid) as uuid\n",
    "      , upload_time\n",
    "      , server_time\n",
    "from `bq-marketkurly.kalog.kurly_app`\n",
    "where pdt = '2023-09-01' and hr in (11)\n",
    "\"\"\""
   ]
  },
  {
   "cell_type": "code",
   "execution_count": null,
   "metadata": {},
   "outputs": [],
   "source": [
    "# 유저정보\n",
    "user_sql = \"\"\"\n",
    "select * \n",
    "from `bq-datafarm.data_warehouse.cust_target_master_1d`\n",
    "where date(update_dt) = current_date('Asia/Seoul')\n",
    "\"\"\""
   ]
  },
  {
   "cell_type": "code",
   "execution_count": null,
   "metadata": {},
   "outputs": [],
   "source": [
    "tot_sql = \"\"\"\n",
    "with user as (\n",
    "  select * \n",
    "  from `bq-datafarm.data_warehouse.cust_target_master_1d`\n",
    "  where date(update_dt) = current_date('Asia/Seoul')\n",
    ")\n",
    ", app_log as (\n",
    "  select pdt\n",
    "      , json_value(message.device_brand) as device_brand\n",
    "      , json_value(message.device_id) as device_id\n",
    "      , json_value(message.device_model) as device_model\n",
    "      , json_value(message.event_id) as event_id\n",
    "      , json_value(message.event_type) as event_type\n",
    "      , json_value(message.event_properties.adid) as adid\n",
    "      , json_value(message.event_properties.browse_id) as browse_id\n",
    "      , json_value(message.event_properties.browse_screen_name) as browse_screen_name\n",
    "      , json_value(message.event_properties.browse_site_name) as browse_site_name\n",
    "      , json_value(message.event_properties.browse_tab_name) as browse_tab_name\n",
    "      , json_value(message.event_properties.content_id) as content_id\n",
    "      , json_value(message.event_properties.content_name) as content_name\n",
    "      , json_value(message.event_properties.previous_screen_name) as previous_screen_name\n",
    "      , json_value(message.event_properties.price) as price\n",
    "      , json_value(message.event_properties.sales_price) as sales_price\n",
    "      , json_value(message.event_properties.screen_name) as screen_naem\n",
    "      , json_value(message.session_id) as session_id\n",
    "      , json_value(message.timestamp) as timestamp\n",
    "      , json_value(message.uuid) as uuid\n",
    "      , upload_time\n",
    "      , server_time\n",
    "  from `bq-marketkurly.kalog.kurly_app`\n",
    "  where pdt = '2023-09-01' and hr in (11)\n",
    ")\n",
    "SELECT A.*\n",
    "    , B.CUST_NO\n",
    "    , B.SEX\n",
    "    , B.AGE_CATG\n",
    "    , B.JOIN_DT\n",
    "    , B.FIRST_ORD_DT\n",
    "    , B.LAST_ORD_DT\n",
    "    , B.LAST_ORD_TERM\n",
    "    , B.ORD_SEQ\n",
    "    , B.ORD_PAY_CUM_SUM\n",
    "    , B.LAST_LOGIN_DT\n",
    "    , B.SMS_YN\n",
    "    , B.MAIL_YN\n",
    "    , B.APP_PUSH_YN\n",
    "    , B.APP_MKT_PUSH_YN\n",
    "    , B.IS_KP_ACTIVE\n",
    "    , B.CENTER_CD\n",
    "    , B.REGION_GROUP_CD\n",
    "    , B.LAST_CP_DC_RATE\n",
    "    , B.TOT_CP_DC_RATE\n",
    "    , B.POINT_BALANCE\n",
    "    , B.BLACK_M_TYPE\n",
    "    , B.RECOMMEND\n",
    "    , B.MEMBERSHIP_YN\n",
    "  FROM APP_LOG A \n",
    "  LEFT JOIN USER B \n",
    "  ON A.UUID = B.M_UUID\n",
    "\"\"\""
   ]
  },
  {
   "cell_type": "code",
   "execution_count": null,
   "metadata": {},
   "outputs": [],
   "source": [
    "df = GCPRead().read_sql_query(sql)"
   ]
  },
  {
   "cell_type": "code",
   "execution_count": null,
   "metadata": {},
   "outputs": [],
   "source": [
    "user = GCPRead().read_sql_query(user_sql)"
   ]
  },
  {
   "cell_type": "code",
   "execution_count": null,
   "metadata": {},
   "outputs": [],
   "source": [
    "tot_df = GCPRead().read_sql_query(tot_sql)"
   ]
  },
  {
   "cell_type": "code",
   "execution_count": null,
   "metadata": {},
   "outputs": [],
   "source": [
    "best_df = df.loc[df.browse_screen_name == 'popular_product'] # 베스트탭\n",
    "best_df_market = best_df.loc[best_df.browse_site_name == 'market'] # 마켓 상품"
   ]
  },
  {
   "cell_type": "code",
   "execution_count": null,
   "metadata": {},
   "outputs": [],
   "source": [
    "# 클릭수\n",
    "best_df.loc[best_df.event_type.isin(['select_product', 'select_product_shortcut'])][['session_id', 'content_id', 'content_name']].drop_duplicates().groupby(['content_id', 'content_name']).count().sort_values(['session_id'], ascending = False)"
   ]
  },
  {
   "cell_type": "code",
   "execution_count": null,
   "metadata": {},
   "outputs": [],
   "source": [
    "# 장바구니 ㄱ담ㄱ수\n",
    "best_df.loc[best_df.event_type.isin(['select_cart'])].count().sort_values(['session_id'], ascending = False)"
   ]
  }
 ],
 "metadata": {
  "language_info": {
   "name": "python"
  },
  "orig_nbformat": 4
 },
 "nbformat": 4,
 "nbformat_minor": 2
}
